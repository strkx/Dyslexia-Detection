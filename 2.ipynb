{
 "cells": [
  {
   "cell_type": "code",
   "execution_count": 12,
   "metadata": {},
   "outputs": [
    {
     "name": "stdout",
     "output_type": "stream",
     "text": [
      "Resizing and padding complete! Images saved to: C:/Users/Umair/pytml/Hackathon/img_dataset/dyslexic_Resized\n"
     ]
    }
   ],
   "source": [
    "import cv2\n",
    "import numpy as np\n",
    "import os\n",
    "\n",
    "def resize_and_pad(img, target_size, pad_color=255):\n",
    "    \"\"\"\n",
    "    Resize an image to fit within the target size while preserving the aspect ratio.\n",
    "    Add padding to fill the remaining space.\n",
    "    \n",
    "    Args:\n",
    "        img (numpy.ndarray): Input image (grayscale or color).\n",
    "        target_size (tuple): Target size (height, width).\n",
    "        pad_color (int): Padding color (0 for black, 255 for white).\n",
    "    \n",
    "    Returns:\n",
    "        numpy.ndarray: Resized and padded image.\n",
    "    \"\"\"\n",
    "    # Get the original image size\n",
    "    original_height, original_width = img.shape[:2]\n",
    "    target_height, target_width = target_size\n",
    "    \n",
    "    # Calculate the scaling factor\n",
    "    scale = min(target_height / original_height, target_width / original_width)\n",
    "    \n",
    "    # Resize the image\n",
    "    resized_height = int(original_height * scale)\n",
    "    resized_width = int(original_width * scale)\n",
    "    resized_img = cv2.resize(img, (resized_width, resized_height))\n",
    "    \n",
    "    # Calculate padding\n",
    "    pad_top = (target_height - resized_height) // 2\n",
    "    pad_bottom = target_height - resized_height - pad_top\n",
    "    pad_left = (target_width - resized_width) // 2\n",
    "    pad_right = target_width - resized_width - pad_left\n",
    "    \n",
    "    # Apply padding\n",
    "    if len(img.shape) == 2:  # Grayscale image\n",
    "        padded_img = cv2.copyMakeBorder(resized_img, pad_top, pad_bottom, pad_left, pad_right,\n",
    "                                        cv2.BORDER_CONSTANT, value=pad_color)\n",
    "    else:  # Color image\n",
    "        padded_img = cv2.copyMakeBorder(resized_img, pad_top, pad_bottom, pad_left, pad_right,\n",
    "                                        cv2.BORDER_CONSTANT, value=[pad_color, pad_color, pad_color])\n",
    "    \n",
    "    return padded_img\n",
    "\n",
    "# Define the target size\n",
    "target_size = (640, 640)  # Target size (height, width)\n",
    "\n",
    "# Path to the dataset\n",
    "dataset_dir = 'C:/Users/Umair/pytml/Hackathon/img_dataset/dyslexic'  # Replace with your dataset directory\n",
    "output_dir = 'C:/Users/Umair/pytml/Hackathon/img_dataset/dyslexic_Resized'  # Replace with your output directory\n",
    "\n",
    "# Create the output directory if it doesn't exist\n",
    "os.makedirs(output_dir, exist_ok=True)\n",
    "\n",
    "# Process all images in the dataset\n",
    "for filename in os.listdir(dataset_dir):\n",
    "    if filename.endswith('.png') or filename.endswith('.jpg'):  # Adjust for your image formats\n",
    "        # Load the image\n",
    "        img_path = os.path.join(dataset_dir, filename)\n",
    "        img = cv2.imread(img_path, cv2.IMREAD_GRAYSCALE)  # Load in grayscale\n",
    "        \n",
    "        # Resize and pad the image\n",
    "        padded_img = resize_and_pad(img, target_size, pad_color=255)  # White padding\n",
    "        \n",
    "        # Save the padded image\n",
    "        output_path = os.path.join(output_dir, filename)\n",
    "        cv2.imwrite(output_path, padded_img)\n",
    "\n",
    "print(\"Resizing and padding complete! Images saved to:\", output_dir)"
   ]
  },
  {
   "cell_type": "code",
   "execution_count": 13,
   "metadata": {},
   "outputs": [
    {
     "name": "stdout",
     "output_type": "stream",
     "text": [
      "Resizing and padding complete! Images saved to: C:/Users/Umair/pytml/Hackathon/img_dataset/non_dyslexic_Resized\n"
     ]
    }
   ],
   "source": [
    "import cv2\n",
    "import numpy as np\n",
    "import os\n",
    "\n",
    "def resize_and_pad(img, target_size, pad_color=255):\n",
    "    \"\"\"\n",
    "    Resize an image to fit within the target size while preserving the aspect ratio.\n",
    "    Add padding to fill the remaining space.\n",
    "    \n",
    "    Args:\n",
    "        img (numpy.ndarray): Input image (grayscale or color).\n",
    "        target_size (tuple): Target size (height, width).\n",
    "        pad_color (int): Padding color (0 for black, 255 for white).\n",
    "    \n",
    "    Returns:\n",
    "        numpy.ndarray: Resized and padded image.\n",
    "    \"\"\"\n",
    "    # Get the original image size\n",
    "    original_height, original_width = img.shape[:2]\n",
    "    target_height, target_width = target_size\n",
    "    \n",
    "    # Calculate the scaling factor\n",
    "    scale = min(target_height / original_height, target_width / original_width)\n",
    "    \n",
    "    # Resize the image\n",
    "    resized_height = int(original_height * scale)\n",
    "    resized_width = int(original_width * scale)\n",
    "    resized_img = cv2.resize(img, (resized_width, resized_height))\n",
    "    \n",
    "    # Calculate padding\n",
    "    pad_top = (target_height - resized_height) // 2\n",
    "    pad_bottom = target_height - resized_height - pad_top\n",
    "    pad_left = (target_width - resized_width) // 2\n",
    "    pad_right = target_width - resized_width - pad_left\n",
    "    \n",
    "    # Apply padding\n",
    "    if len(img.shape) == 2:  # Grayscale image\n",
    "        padded_img = cv2.copyMakeBorder(resized_img, pad_top, pad_bottom, pad_left, pad_right,\n",
    "                                        cv2.BORDER_CONSTANT, value=pad_color)\n",
    "    else:  # Color image\n",
    "        padded_img = cv2.copyMakeBorder(resized_img, pad_top, pad_bottom, pad_left, pad_right,\n",
    "                                        cv2.BORDER_CONSTANT, value=[pad_color, pad_color, pad_color])\n",
    "    \n",
    "    return padded_img\n",
    "\n",
    "# Define the target size\n",
    "target_size = (640, 640)  # Target size (height, width)\n",
    "\n",
    "# Path to the dataset\n",
    "dataset_dir = 'C:/Users/Umair/pytml/Hackathon/img_dataset/non_dyslexic'  # Replace with your dataset directory\n",
    "output_dir = 'C:/Users/Umair/pytml/Hackathon/img_dataset/non_dyslexic_Resized'  # Replace with your output directory\n",
    "\n",
    "# Create the output directory if it doesn't exist\n",
    "os.makedirs(output_dir, exist_ok=True)\n",
    "\n",
    "# Process all images in the dataset\n",
    "for filename in os.listdir(dataset_dir):\n",
    "    if filename.endswith('.png') or filename.endswith('.jpg'):  # Adjust for your image formats\n",
    "        # Load the image\n",
    "        img_path = os.path.join(dataset_dir, filename)\n",
    "        img = cv2.imread(img_path, cv2.IMREAD_GRAYSCALE)  # Load in grayscale\n",
    "        \n",
    "        # Resize and pad the image\n",
    "        padded_img = resize_and_pad(img, target_size, pad_color=255)  # White padding\n",
    "        \n",
    "        # Save the padded image\n",
    "        output_path = os.path.join(output_dir, filename)\n",
    "        cv2.imwrite(output_path, padded_img)\n",
    "\n",
    "print(\"Resizing and padding complete! Images saved to:\", output_dir)"
   ]
  },
  {
   "cell_type": "code",
   "execution_count": 26,
   "metadata": {},
   "outputs": [],
   "source": [
    "# Ensure TensorFlow uses the GPU\n",
    "physical_devices = tf.config.list_physical_devices('GPU')\n",
    "if physical_devices:\n",
    "    tf.config.experimental.set_memory_growth(physical_devices[0], True)"
   ]
  },
  {
   "cell_type": "code",
   "execution_count": 2,
   "metadata": {},
   "outputs": [
    {
     "name": "stdout",
     "output_type": "stream",
     "text": [
      "GPU Available: []\n"
     ]
    }
   ],
   "source": [
    "import tensorflow as tf\n",
    "print(\"GPU Available:\", tf.config.list_physical_devices('GPU'))"
   ]
  },
  {
   "cell_type": "code",
   "execution_count": 1,
   "metadata": {},
   "outputs": [
    {
     "name": "stdout",
     "output_type": "stream",
     "text": [
      "Found 80 images belonging to 2 classes.\n",
      "Found 20 images belonging to 2 classes.\n",
      "Training images found: 80\n",
      "Validation images found: 20\n"
     ]
    },
    {
     "name": "stderr",
     "output_type": "stream",
     "text": [
      "C:\\Users\\Umair\\AppData\\Roaming\\Python\\Python312\\site-packages\\keras\\src\\layers\\convolutional\\base_conv.py:107: UserWarning: Do not pass an `input_shape`/`input_dim` argument to a layer. When using Sequential models, prefer using an `Input(shape)` object as the first layer in the model instead.\n",
      "  super().__init__(activity_regularizer=activity_regularizer, **kwargs)\n",
      "C:\\Users\\Umair\\AppData\\Roaming\\Python\\Python312\\site-packages\\keras\\src\\trainers\\data_adapters\\py_dataset_adapter.py:121: UserWarning: Your `PyDataset` class should call `super().__init__(**kwargs)` in its constructor. `**kwargs` can include `workers`, `use_multiprocessing`, `max_queue_size`. Do not pass these arguments to `fit()`, as they will be ignored.\n",
      "  self._warn_if_super_not_called()\n"
     ]
    },
    {
     "name": "stdout",
     "output_type": "stream",
     "text": [
      "Epoch 1/10\n",
      "\u001b[1m10/10\u001b[0m \u001b[32m━━━━━━━━━━━━━━━━━━━━\u001b[0m\u001b[37m\u001b[0m \u001b[1m0s\u001b[0m 257ms/step - accuracy: 0.4351 - loss: 2.5494\n",
      "Epoch 1: saving model to model_epoch_01.h5\n"
     ]
    },
    {
     "name": "stderr",
     "output_type": "stream",
     "text": [
      "WARNING:absl:You are saving your model as an HDF5 file via `model.save()` or `keras.saving.save_model(model)`. This file format is considered legacy. We recommend using instead the native Keras format, e.g. `model.save('my_model.keras')` or `keras.saving.save_model(model, 'my_model.keras')`. \n"
     ]
    },
    {
     "name": "stdout",
     "output_type": "stream",
     "text": [
      "\u001b[1m10/10\u001b[0m \u001b[32m━━━━━━━━━━━━━━━━━━━━\u001b[0m\u001b[37m\u001b[0m \u001b[1m7s\u001b[0m 460ms/step - accuracy: 0.4319 - loss: 2.4783 - val_accuracy: 0.5625 - val_loss: 0.6876\n",
      "Epoch 2/10\n",
      "\u001b[1m10/10\u001b[0m \u001b[32m━━━━━━━━━━━━━━━━━━━━\u001b[0m\u001b[37m\u001b[0m \u001b[1m0s\u001b[0m 380ms/step - accuracy: 0.4263 - loss: 0.6998\n",
      "Epoch 2: saving model to model_epoch_02.h5\n"
     ]
    },
    {
     "name": "stderr",
     "output_type": "stream",
     "text": [
      "WARNING:absl:You are saving your model as an HDF5 file via `model.save()` or `keras.saving.save_model(model)`. This file format is considered legacy. We recommend using instead the native Keras format, e.g. `model.save('my_model.keras')` or `keras.saving.save_model(model, 'my_model.keras')`. \n"
     ]
    },
    {
     "name": "stdout",
     "output_type": "stream",
     "text": [
      "\u001b[1m10/10\u001b[0m \u001b[32m━━━━━━━━━━━━━━━━━━━━\u001b[0m\u001b[37m\u001b[0m \u001b[1m5s\u001b[0m 483ms/step - accuracy: 0.4319 - loss: 0.6995 - val_accuracy: 0.8125 - val_loss: 0.6869\n",
      "Epoch 3/10\n",
      "\u001b[1m10/10\u001b[0m \u001b[32m━━━━━━━━━━━━━━━━━━━━\u001b[0m\u001b[37m\u001b[0m \u001b[1m0s\u001b[0m 405ms/step - accuracy: 0.7325 - loss: 0.6841\n",
      "Epoch 3: saving model to model_epoch_03.h5\n"
     ]
    },
    {
     "name": "stderr",
     "output_type": "stream",
     "text": [
      "WARNING:absl:You are saving your model as an HDF5 file via `model.save()` or `keras.saving.save_model(model)`. This file format is considered legacy. We recommend using instead the native Keras format, e.g. `model.save('my_model.keras')` or `keras.saving.save_model(model, 'my_model.keras')`. \n"
     ]
    },
    {
     "name": "stdout",
     "output_type": "stream",
     "text": [
      "\u001b[1m10/10\u001b[0m \u001b[32m━━━━━━━━━━━━━━━━━━━━\u001b[0m\u001b[37m\u001b[0m \u001b[1m5s\u001b[0m 518ms/step - accuracy: 0.7296 - loss: 0.6835 - val_accuracy: 0.5000 - val_loss: 0.6491\n",
      "Epoch 4/10\n",
      "\u001b[1m10/10\u001b[0m \u001b[32m━━━━━━━━━━━━━━━━━━━━\u001b[0m\u001b[37m\u001b[0m \u001b[1m0s\u001b[0m 380ms/step - accuracy: 0.6621 - loss: 0.5957\n",
      "Epoch 4: saving model to model_epoch_04.h5\n"
     ]
    },
    {
     "name": "stderr",
     "output_type": "stream",
     "text": [
      "WARNING:absl:You are saving your model as an HDF5 file via `model.save()` or `keras.saving.save_model(model)`. This file format is considered legacy. We recommend using instead the native Keras format, e.g. `model.save('my_model.keras')` or `keras.saving.save_model(model, 'my_model.keras')`. \n"
     ]
    },
    {
     "name": "stdout",
     "output_type": "stream",
     "text": [
      "\u001b[1m10/10\u001b[0m \u001b[32m━━━━━━━━━━━━━━━━━━━━\u001b[0m\u001b[37m\u001b[0m \u001b[1m5s\u001b[0m 531ms/step - accuracy: 0.6644 - loss: 0.5949 - val_accuracy: 0.6250 - val_loss: 0.7418\n",
      "Epoch 5/10\n",
      "\u001b[1m10/10\u001b[0m \u001b[32m━━━━━━━━━━━━━━━━━━━━\u001b[0m\u001b[37m\u001b[0m \u001b[1m0s\u001b[0m 394ms/step - accuracy: 0.6963 - loss: 0.5499\n",
      "Epoch 5: saving model to model_epoch_05.h5\n"
     ]
    },
    {
     "name": "stderr",
     "output_type": "stream",
     "text": [
      "WARNING:absl:You are saving your model as an HDF5 file via `model.save()` or `keras.saving.save_model(model)`. This file format is considered legacy. We recommend using instead the native Keras format, e.g. `model.save('my_model.keras')` or `keras.saving.save_model(model, 'my_model.keras')`. \n"
     ]
    },
    {
     "name": "stdout",
     "output_type": "stream",
     "text": [
      "\u001b[1m10/10\u001b[0m \u001b[32m━━━━━━━━━━━━━━━━━━━━\u001b[0m\u001b[37m\u001b[0m \u001b[1m8s\u001b[0m 786ms/step - accuracy: 0.7035 - loss: 0.5426 - val_accuracy: 0.6875 - val_loss: 0.4802\n",
      "Epoch 6/10\n",
      "\u001b[1m10/10\u001b[0m \u001b[32m━━━━━━━━━━━━━━━━━━━━\u001b[0m\u001b[37m\u001b[0m \u001b[1m0s\u001b[0m 421ms/step - accuracy: 0.8655 - loss: 0.3417\n",
      "Epoch 6: saving model to model_epoch_06.h5\n"
     ]
    },
    {
     "name": "stderr",
     "output_type": "stream",
     "text": [
      "WARNING:absl:You are saving your model as an HDF5 file via `model.save()` or `keras.saving.save_model(model)`. This file format is considered legacy. We recommend using instead the native Keras format, e.g. `model.save('my_model.keras')` or `keras.saving.save_model(model, 'my_model.keras')`. \n"
     ]
    },
    {
     "name": "stdout",
     "output_type": "stream",
     "text": [
      "\u001b[1m10/10\u001b[0m \u001b[32m━━━━━━━━━━━━━━━━━━━━\u001b[0m\u001b[37m\u001b[0m \u001b[1m8s\u001b[0m 776ms/step - accuracy: 0.8607 - loss: 0.3440 - val_accuracy: 0.7500 - val_loss: 0.5428\n",
      "Epoch 7/10\n",
      "\u001b[1m10/10\u001b[0m \u001b[32m━━━━━━━━━━━━━━━━━━━━\u001b[0m\u001b[37m\u001b[0m \u001b[1m0s\u001b[0m 411ms/step - accuracy: 0.7702 - loss: 0.4286\n",
      "Epoch 7: saving model to model_epoch_07.h5\n"
     ]
    },
    {
     "name": "stderr",
     "output_type": "stream",
     "text": [
      "WARNING:absl:You are saving your model as an HDF5 file via `model.save()` or `keras.saving.save_model(model)`. This file format is considered legacy. We recommend using instead the native Keras format, e.g. `model.save('my_model.keras')` or `keras.saving.save_model(model, 'my_model.keras')`. \n"
     ]
    },
    {
     "name": "stdout",
     "output_type": "stream",
     "text": [
      "\u001b[1m10/10\u001b[0m \u001b[32m━━━━━━━━━━━━━━━━━━━━\u001b[0m\u001b[37m\u001b[0m \u001b[1m7s\u001b[0m 760ms/step - accuracy: 0.7684 - loss: 0.4303 - val_accuracy: 0.7500 - val_loss: 0.5356\n",
      "Epoch 8/10\n",
      "\u001b[1m10/10\u001b[0m \u001b[32m━━━━━━━━━━━━━━━━━━━━\u001b[0m\u001b[37m\u001b[0m \u001b[1m0s\u001b[0m 401ms/step - accuracy: 0.7949 - loss: 0.4702\n",
      "Epoch 8: saving model to model_epoch_08.h5\n"
     ]
    },
    {
     "name": "stderr",
     "output_type": "stream",
     "text": [
      "WARNING:absl:You are saving your model as an HDF5 file via `model.save()` or `keras.saving.save_model(model)`. This file format is considered legacy. We recommend using instead the native Keras format, e.g. `model.save('my_model.keras')` or `keras.saving.save_model(model, 'my_model.keras')`. \n"
     ]
    },
    {
     "name": "stdout",
     "output_type": "stream",
     "text": [
      "\u001b[1m10/10\u001b[0m \u001b[32m━━━━━━━━━━━━━━━━━━━━\u001b[0m\u001b[37m\u001b[0m \u001b[1m8s\u001b[0m 871ms/step - accuracy: 0.7988 - loss: 0.4630 - val_accuracy: 0.5625 - val_loss: 0.8471\n",
      "Epoch 9/10\n",
      "\u001b[1m10/10\u001b[0m \u001b[32m━━━━━━━━━━━━━━━━━━━━\u001b[0m\u001b[37m\u001b[0m \u001b[1m0s\u001b[0m 378ms/step - accuracy: 0.9456 - loss: 0.1794\n",
      "Epoch 9: saving model to model_epoch_09.h5\n"
     ]
    },
    {
     "name": "stderr",
     "output_type": "stream",
     "text": [
      "WARNING:absl:You are saving your model as an HDF5 file via `model.save()` or `keras.saving.save_model(model)`. This file format is considered legacy. We recommend using instead the native Keras format, e.g. `model.save('my_model.keras')` or `keras.saving.save_model(model, 'my_model.keras')`. \n"
     ]
    },
    {
     "name": "stdout",
     "output_type": "stream",
     "text": [
      "\u001b[1m10/10\u001b[0m \u001b[32m━━━━━━━━━━━━━━━━━━━━\u001b[0m\u001b[37m\u001b[0m \u001b[1m7s\u001b[0m 678ms/step - accuracy: 0.9404 - loss: 0.1851 - val_accuracy: 0.7500 - val_loss: 0.5878\n",
      "Epoch 10/10\n",
      "\u001b[1m10/10\u001b[0m \u001b[32m━━━━━━━━━━━━━━━━━━━━\u001b[0m\u001b[37m\u001b[0m \u001b[1m0s\u001b[0m 365ms/step - accuracy: 0.9042 - loss: 0.2430\n",
      "Epoch 10: saving model to model_epoch_10.h5\n"
     ]
    },
    {
     "name": "stderr",
     "output_type": "stream",
     "text": [
      "WARNING:absl:You are saving your model as an HDF5 file via `model.save()` or `keras.saving.save_model(model)`. This file format is considered legacy. We recommend using instead the native Keras format, e.g. `model.save('my_model.keras')` or `keras.saving.save_model(model, 'my_model.keras')`. \n"
     ]
    },
    {
     "name": "stdout",
     "output_type": "stream",
     "text": [
      "\u001b[1m10/10\u001b[0m \u001b[32m━━━━━━━━━━━━━━━━━━━━\u001b[0m\u001b[37m\u001b[0m \u001b[1m7s\u001b[0m 686ms/step - accuracy: 0.9061 - loss: 0.2410 - val_accuracy: 0.5625 - val_loss: 0.5686\n"
     ]
    }
   ],
   "source": [
    "from tensorflow.keras.preprocessing.image import ImageDataGenerator\n",
    "from tensorflow.keras.callbacks import ModelCheckpoint\n",
    "import os\n",
    "\n",
    "# Define the data generator with validation split\n",
    "train_datagen = ImageDataGenerator(\n",
    "    rescale=1./255,\n",
    "    validation_split=0.2  # 20% of the data will be used for validation\n",
    ")\n",
    "\n",
    "# Define paths to the dataset\n",
    "output_dir = 'img_dataset'\n",
    "train_dir = os.path.join(output_dir, 'train')  # Path to training data\n",
    "\n",
    "# Load the training dataset\n",
    "train_generator = train_datagen.flow_from_directory(\n",
    "    train_dir,  # Use the training directory\n",
    "    target_size=(128, 128),  # Reduced image size for faster training\n",
    "    batch_size=8,  # Reduced batch size\n",
    "    class_mode='binary',\n",
    "    subset='training'  # Training set\n",
    ")\n",
    "\n",
    "# Load the validation dataset\n",
    "validation_generator = train_datagen.flow_from_directory(\n",
    "    train_dir,  # Use the same training directory\n",
    "    target_size=(128, 128),  # Reduced image size for faster training\n",
    "    batch_size=8,  # Reduced batch size\n",
    "    class_mode='binary',\n",
    "    subset='validation'  # Validation set\n",
    ")\n",
    "\n",
    "# Print the number of images found\n",
    "print(\"Training images found:\", train_generator.samples)\n",
    "print(\"Validation images found:\", validation_generator.samples)\n",
    "\n",
    "# Define the model\n",
    "from tensorflow.keras.models import Sequential\n",
    "from tensorflow.keras.layers import Conv2D, MaxPooling2D, Flatten, Dense\n",
    "\n",
    "model = Sequential([\n",
    "    Conv2D(32, (3, 3), activation='relu', input_shape=(128, 128, 3)),\n",
    "    MaxPooling2D((2, 2)),\n",
    "    Conv2D(64, (3, 3), activation='relu'),\n",
    "    MaxPooling2D((2, 2)),\n",
    "    Flatten(),\n",
    "    Dense(128, activation='relu'),\n",
    "    Dense(1, activation='sigmoid')\n",
    "])\n",
    "\n",
    "model.compile(optimizer='adam', loss='binary_crossentropy', metrics=['accuracy'])\n",
    "\n",
    "# Define the checkpoint callback\n",
    "checkpoint = ModelCheckpoint(\n",
    "    'model_epoch_{epoch:02d}.h5',  # Save model after each epoch\n",
    "    monitor='val_accuracy',        # Monitor validation accuracy\n",
    "    save_best_only=False,          # Save all epochs, not just the best one\n",
    "    save_weights_only=False,       # Save the entire model (architecture + weights)\n",
    "    verbose=1                      # Print a message when saving\n",
    ")\n",
    "\n",
    "# Train the model with checkpointing and progress bar\n",
    "history = model.fit(\n",
    "    train_generator,\n",
    "    steps_per_epoch=train_generator.samples // train_generator.batch_size,\n",
    "    validation_data=validation_generator,\n",
    "    validation_steps=validation_generator.samples // validation_generator.batch_size,\n",
    "    epochs=10,  # Number of epochs\n",
    "    callbacks=[checkpoint],  # Add the checkpoint callback\n",
    "    verbose=1  # Show progress bar and estimated time remaining\n",
    ")"
   ]
  },
  {
   "cell_type": "code",
   "execution_count": 4,
   "metadata": {},
   "outputs": [],
   "source": [
    "model.save('final_model.keras')  # Save the model in Keras native format"
   ]
  },
  {
   "cell_type": "code",
   "execution_count": 6,
   "metadata": {},
   "outputs": [
    {
     "name": "stderr",
     "output_type": "stream",
     "text": [
      "C:\\Users\\Umair\\AppData\\Roaming\\Python\\Python312\\site-packages\\keras\\src\\saving\\saving_lib.py:757: UserWarning: Skipping variable loading for optimizer 'rmsprop', because it has 10 variables whereas the saved optimizer has 18 variables. \n",
      "  saveable.load_own_variables(weights_store.get(inner_path))\n"
     ]
    }
   ],
   "source": [
    "model = load_model('C:/Users/Umair/pytml/Hackathon/final_model.keras')  # Replace with the correct path"
   ]
  },
  {
   "cell_type": "code",
   "execution_count": 8,
   "metadata": {},
   "outputs": [],
   "source": [
    "model = load_model('final_model.keras')  # For HDF5 format"
   ]
  },
  {
   "cell_type": "code",
   "execution_count": 19,
   "metadata": {},
   "outputs": [],
   "source": [
    "from tensorflow.keras.preprocessing import image\n",
    "import numpy as np\n",
    "\n",
    "# Load an image from file\n",
    "img_path = 'C:/Users/Umair/pytml/Hackathon/img_dataset/train/non_dyslexic_Resized/50.jpg'  # Replace with the path to your image\n",
    "img = image.load_img(img_path, target_size=(128, 128))  # Resize to match training size\n",
    "\n",
    "# Convert the image to a numpy array\n",
    "img_array = image.img_to_array(img)\n",
    "\n",
    "# Normalize the pixel values (if your model was trained with normalized data)\n",
    "img_array = img_array / 255.0\n",
    "\n",
    "# Expand dimensions to match the model's input shape\n",
    "img_array = np.expand_dims(img_array, axis=0)  # Shape: (1, 128, 128, 3)"
   ]
  },
  {
   "cell_type": "code",
   "execution_count": 23,
   "metadata": {},
   "outputs": [
    {
     "name": "stdout",
     "output_type": "stream",
     "text": [
      "\u001b[1m1/1\u001b[0m \u001b[32m━━━━━━━━━━━━━━━━━━━━\u001b[0m\u001b[37m\u001b[0m \u001b[1m0s\u001b[0m 52ms/step\n",
      "Predicted Probability: 0.44202822\n",
      "Predicted Class: Dyslexic\n"
     ]
    }
   ],
   "source": [
    "# Make a prediction\n",
    "prediction = model.predict(img_array)\n",
    "\n",
    "# Print the prediction\n",
    "print(\"Predicted Probability:\", prediction[0][0])\n",
    "print(\"Predicted Class:\", \"Non_Dyslexic\" if prediction[0][0] > 0.5 else \"Dyslexic\")"
   ]
  },
  {
   "cell_type": "code",
   "execution_count": 48,
   "metadata": {},
   "outputs": [],
   "source": [
    "from tensorflow.keras.preprocessing import image\n",
    "import numpy as np\n",
    "\n",
    "# Load the new image\n",
    "new_image_path = 'C:/Users/Umair/pytml/Hackathon/img_dataset/train/non_dyslexic_Resized/50.jpg'  # Replace with the path to your new image\n",
    "img = image.load_img(new_image_path, target_size=(128, 128))  # Resize to match training size\n",
    "\n",
    "# Convert the image to a numpy array\n",
    "img_array = image.img_to_array(img)\n",
    "\n",
    "# Normalize the pixel values (if your model was trained with normalized data)\n",
    "img_array = img_array / 255.0\n",
    "\n",
    "# Expand dimensions to match the model's input shape\n",
    "img_array = np.expand_dims(img_array, axis=0)  # Shape: (1, 128, 128, 3)"
   ]
  },
  {
   "cell_type": "code",
   "execution_count": 5,
   "metadata": {},
   "outputs": [
    {
     "name": "stderr",
     "output_type": "stream",
     "text": [
      "c:\\Users\\Admin\\AppData\\Local\\Programs\\Python\\Python312\\Lib\\site-packages\\keras\\src\\saving\\saving_lib.py:713: UserWarning: Skipping variable loading for optimizer 'rmsprop', because it has 10 variables whereas the saved optimizer has 18 variables. \n",
      "  saveable.load_own_variables(weights_store.get(inner_path))\n",
      "WARNING:absl:You are saving your model as an HDF5 file via `model.save()` or `keras.saving.save_model(model)`. This file format is considered legacy. We recommend using instead the native Keras format, e.g. `model.save('my_model.keras')` or `keras.saving.save_model(model, 'my_model.keras')`. \n"
     ]
    },
    {
     "name": "stdout",
     "output_type": "stream",
     "text": [
      "✅ Full Keras model saved as dyslexia_cnn_model.h5\n"
     ]
    }
   ],
   "source": [
    "# import tensorflow as tf\n",
    "# import json\n",
    "\n",
    "# # ✅ Read JSON as a string (not a dictionary)\n",
    "# with open(\"keras/config.json\", \"r\") as f:\n",
    "#     model_json = f.read()  # Use .read() instead of json.load()\n",
    "\n",
    "# # ✅ Load model from JSON\n",
    "# model = tf.keras.models.model_from_json(model_json)\n",
    "\n",
    "# # ✅ Load weights into the model\n",
    "# model.load_weights(\"keras/model.weights.h5\")\n",
    "\n",
    "# # ✅ Save the full model as an HDF5 file\n",
    "# model.save(\"keras/dyslexia_cnn_model.h5\")\n",
    "\n",
    "# print(\"✅ Full Keras model saved as dyslexia_cnn_model.h5\")\n"
   ]
  },
  {
   "cell_type": "code",
   "execution_count": 49,
   "metadata": {},
   "outputs": [
    {
     "name": "stdout",
     "output_type": "stream",
     "text": [
      "\u001b[1m1/1\u001b[0m \u001b[32m━━━━━━━━━━━━━━━━━━━━\u001b[0m\u001b[37m\u001b[0m \u001b[1m0s\u001b[0m 42ms/step\n",
      "Predicted Probability: 0.9265764\n",
      "Predicted Class: Non_Dyslexic\n"
     ]
    }
   ],
   "source": [
    "# Make a prediction\n",
    "prediction = model.predict(img_array)\n",
    "\n",
    "# Print the prediction\n",
    "print(\"Predicted Probability:\", prediction[0][0])\n",
    "print(\"Predicted Class:\", \"Non_Dyslexic\" if prediction[0][0] > 0.5 else \"Dyslexic\")"
   ]
  },
  {
   "cell_type": "code",
   "execution_count": 50,
   "metadata": {},
   "outputs": [
    {
     "name": "stdout",
     "output_type": "stream",
     "text": [
      "{'dyslexic_Resized': 0, 'non_dyslexic_Resized': 1}\n"
     ]
    }
   ],
   "source": [
    "print(train_generator.class_indices)"
   ]
  },
  {
   "cell_type": "code",
   "execution_count": null,
   "metadata": {},
   "outputs": [],
   "source": []
  }
 ],
 "metadata": {
  "kernelspec": {
   "display_name": "Python 3",
   "language": "python",
   "name": "python3"
  },
  "language_info": {
   "codemirror_mode": {
    "name": "ipython",
    "version": 3
   },
   "file_extension": ".py",
   "mimetype": "text/x-python",
   "name": "python",
   "nbconvert_exporter": "python",
   "pygments_lexer": "ipython3",
   "version": "3.12.6"
  }
 },
 "nbformat": 4,
 "nbformat_minor": 2
}
